{
 "cells": [
  {
   "cell_type": "markdown",
   "id": "a5d5f801-de71-433d-b0f6-56aa792230ca",
   "metadata": {},
   "source": [
    "# IMPORT LIBRARY"
   ]
  },
  {
   "cell_type": "code",
   "execution_count": 2,
   "id": "d6d7dc91-b136-469d-87df-f215ed789b63",
   "metadata": {},
   "outputs": [],
   "source": [
    "import cv2\n",
    "import numpy as np"
   ]
  },
  {
   "cell_type": "code",
   "execution_count": 3,
   "id": "3c3ef1f7-b9cc-4199-83c1-fa82ca73fefa",
   "metadata": {},
   "outputs": [
    {
     "name": "stdout",
     "output_type": "stream",
     "text": [
      "(544, 960, 3)\n",
      "uint8\n"
     ]
    }
   ],
   "source": [
    "citra = cv2.imread(\"orange.jpg\")\n",
    "cv2.imshow(\"Citra asli\", citra)\n",
    "cv2.waitKey(5)\n",
    "cv2.destroyAllWindows()\n",
    "print(citra.shape)\n",
    "print(citra.dtype)"
   ]
  },
  {
   "cell_type": "code",
   "execution_count": 12,
   "id": "5a26045b-195f-408b-8203-e5fad9c1e626",
   "metadata": {},
   "outputs": [
    {
     "name": "stdout",
     "output_type": "stream",
     "text": [
      "[[ 22  22  21 ...  17  22  21]\n",
      " [ 20  22  21 ...  16  20  20]\n",
      " [ 21  22  23 ...  16  19  21]\n",
      " ...\n",
      " [ 48  46  44 ... 188 186 176]\n",
      " [ 46  44  42 ... 186 189 193]\n",
      " [ 49  46  43 ... 180 189 184]]\n"
     ]
    }
   ],
   "source": [
    "b = citra[:,:,0]\n",
    "g = citra[:,:,1]\n",
    "r = citra[:,:,2]\n",
    "panjang = len(citra)\n",
    "lebar = len(citra[0])\n",
    "citra_gray = np.zeros((panjang,lebar))\n",
    "\n",
    "for i in range (panjang):\n",
    "    for j in range (lebar):\n",
    "        citra_gray[i,j] = 0.2989*r[i,j] + 0.587*g[i,j] + 0.1141*b[i,j]\n",
    "\n",
    "citra_gray = citra_gray.astype(np.uint8)\n",
    "cv2.imshow(\"Abu\", citra_gray)\n",
    "cv2.waitKey(5)\n",
    "cv2.destroyAllWindows()\n",
    "print(citra_gray)"
   ]
  },
  {
   "cell_type": "code",
   "execution_count": null,
   "id": "898e1c26-0b51-40ea-b5a6-aa189561ecc1",
   "metadata": {},
   "outputs": [],
   "source": []
  }
 ],
 "metadata": {
  "kernelspec": {
   "display_name": "Python 3 (ipykernel)",
   "language": "python",
   "name": "python3"
  },
  "language_info": {
   "codemirror_mode": {
    "name": "ipython",
    "version": 3
   },
   "file_extension": ".py",
   "mimetype": "text/x-python",
   "name": "python",
   "nbconvert_exporter": "python",
   "pygments_lexer": "ipython3",
   "version": "3.12.4"
  }
 },
 "nbformat": 4,
 "nbformat_minor": 5
}
